{
  "nbformat": 4,
  "nbformat_minor": 0,
  "metadata": {
    "colab": {
      "provenance": []
    },
    "kernelspec": {
      "name": "python3",
      "display_name": "Python 3"
    },
    "language_info": {
      "name": "python"
    }
  },
  "cells": [
    {
      "cell_type": "code",
      "source": [
        "from google.colab import drive\n",
        "import pandas as pd\n",
        "\n",
        "# Step 1: Mount Google Drive\n",
        "drive.mount('/content/drive')\n",
        "\n",
        "# Step 2: Set the new path (file is in My Drive root)\n",
        "file_path = '/content/drive/MyDrive/job_descriptions.csv'\n",
        "\n",
        "# Step 3: Read just the first few rows to get column names\n",
        "df = pd.read_csv(file_path)\n",
        "print(\"Column names:\")\n",
        "print(df.columns.tolist())\n"
      ],
      "metadata": {
        "colab": {
          "base_uri": "https://localhost:8080/"
        },
        "id": "N5cEHX4hILJy",
        "outputId": "8461ee33-343e-4787-d270-5ac4c00d9d00"
      },
      "execution_count": null,
      "outputs": [
        {
          "output_type": "stream",
          "name": "stdout",
          "text": [
            "Drive already mounted at /content/drive; to attempt to forcibly remount, call drive.mount(\"/content/drive\", force_remount=True).\n",
            "Column names:\n",
            "['Job Id', 'Experience', 'Qualifications', 'Salary Range', 'location', 'Country', 'latitude', 'longitude', 'Work Type', 'Company Size', 'Job Posting Date', 'Preference', 'Contact Person', 'Contact', 'Job Title', 'Role', 'Job Portal', 'Job Description', 'Benefits', 'skills', 'Responsibilities', 'Company', 'Company Profile']\n"
          ]
        }
      ]
    },
    {
      "cell_type": "code",
      "source": [
        "print(\"\\nPreview of the data:\")\n",
        "print(df.head())\n"
      ],
      "metadata": {
        "colab": {
          "base_uri": "https://localhost:8080/"
        },
        "id": "Rfavn217IQ37",
        "outputId": "099fa603-c21c-457e-9bb7-ed7d2284a9aa"
      },
      "execution_count": null,
      "outputs": [
        {
          "output_type": "stream",
          "name": "stdout",
          "text": [
            "\n",
            "Preview of the data:\n",
            "             Job Id     Experience Qualifications Salary Range    location  \\\n",
            "0  1089843540111562  5 to 15 Years         M.Tech    $59K-$99K     Douglas   \n",
            "1   398454096642776  2 to 12 Years            BCA   $56K-$116K    Ashgabat   \n",
            "2   481640072963533  0 to 12 Years            PhD   $61K-$104K       Macao   \n",
            "3   688192671473044  4 to 11 Years            PhD    $65K-$91K  Porto-Novo   \n",
            "4   117057806156508  1 to 12 Years            MBA    $64K-$87K    Santiago   \n",
            "\n",
            "            Country  latitude  longitude  Work Type  Company Size  ...  \\\n",
            "0       Isle of Man   54.2361    -4.5481     Intern         26801  ...   \n",
            "1      Turkmenistan   38.9697    59.5563     Intern        100340  ...   \n",
            "2  Macao SAR, China   22.1987   113.5439  Temporary         84525  ...   \n",
            "3             Benin    9.3077     2.3158  Full-Time        129896  ...   \n",
            "4             Chile  -35.6751   -71.5429     Intern         53944  ...   \n",
            "\n",
            "                 Contact                     Job Title  \\\n",
            "0   001-381-930-7517x737  Digital Marketing Specialist   \n",
            "1           461-509-4216                 Web Developer   \n",
            "2             9687619505            Operations Manager   \n",
            "3  +1-820-643-5431x47576              Network Engineer   \n",
            "4      343.975.4702x9340                 Event Manager   \n",
            "\n",
            "                        Role    Job Portal  \\\n",
            "0       Social Media Manager      Snagajob   \n",
            "1     Frontend Web Developer      Idealist   \n",
            "2    Quality Control Manager  Jobs2Careers   \n",
            "3  Wireless Network Engineer      FlexJobs   \n",
            "4         Conference Manager  Jobs2Careers   \n",
            "\n",
            "                                     Job Description  \\\n",
            "0  Social Media Managers oversee an organizations...   \n",
            "1  Frontend Web Developers design and implement u...   \n",
            "2  Quality Control Managers establish and enforce...   \n",
            "3  Wireless Network Engineers design, implement, ...   \n",
            "4  A Conference Manager coordinates and manages c...   \n",
            "\n",
            "                                            Benefits  \\\n",
            "0  {'Flexible Spending Accounts (FSAs), Relocatio...   \n",
            "1  {'Health Insurance, Retirement Plans, Paid Tim...   \n",
            "2  {'Legal Assistance, Bonuses and Incentive Prog...   \n",
            "3  {'Transportation Benefits, Professional Develo...   \n",
            "4  {'Flexible Spending Accounts (FSAs), Relocatio...   \n",
            "\n",
            "                                              skills  \\\n",
            "0  Social media platforms (e.g., Facebook, Twitte...   \n",
            "1  HTML, CSS, JavaScript Frontend frameworks (e.g...   \n",
            "2  Quality control processes and methodologies St...   \n",
            "3  Wireless network design and architecture Wi-Fi...   \n",
            "4  Event planning Conference logistics Budget man...   \n",
            "\n",
            "                                    Responsibilities  \\\n",
            "0  Manage and grow social media accounts, create ...   \n",
            "1  Design and code user interfaces for websites, ...   \n",
            "2  Establish and enforce quality control standard...   \n",
            "3  Design, configure, and optimize wireless netwo...   \n",
            "4  Specialize in conference and convention planni...   \n",
            "\n",
            "                            Company  \\\n",
            "0                 Icahn Enterprises   \n",
            "1      PNC Financial Services Group   \n",
            "2  United Services Automobile Assn.   \n",
            "3                              Hess   \n",
            "4                      Cairn Energy   \n",
            "\n",
            "                                     Company Profile  \n",
            "0  {\"Sector\":\"Diversified\",\"Industry\":\"Diversifie...  \n",
            "1  {\"Sector\":\"Financial Services\",\"Industry\":\"Com...  \n",
            "2  {\"Sector\":\"Insurance\",\"Industry\":\"Insurance: P...  \n",
            "3  {\"Sector\":\"Energy\",\"Industry\":\"Mining, Crude-O...  \n",
            "4  {\"Sector\":\"Energy\",\"Industry\":\"Energy - Oil & ...  \n",
            "\n",
            "[5 rows x 23 columns]\n"
          ]
        }
      ]
    },
    {
      "cell_type": "code",
      "source": [
        "df.columns = (\n",
        "    df.columns.str.strip()\n",
        "              .str.lower()\n",
        "              .str.replace(' ', '_')\n",
        "              .str.replace(r'[^\\w_]', '', regex=True)  # Remove non-word characters\n",
        ")\n",
        "\n",
        "print(\"Fully cleaned column names:\")\n",
        "print(df.columns.tolist())\n"
      ],
      "metadata": {
        "colab": {
          "base_uri": "https://localhost:8080/"
        },
        "id": "tahtySH4JDws",
        "outputId": "8ded69d2-7ced-4e3b-823d-ce41c908b71b"
      },
      "execution_count": null,
      "outputs": [
        {
          "output_type": "stream",
          "name": "stdout",
          "text": [
            "Fully cleaned column names:\n",
            "['job_id', 'experience', 'qualifications', 'salary_range', 'location', 'country', 'latitude', 'longitude', 'work_type', 'company_size', 'job_posting_date', 'preference', 'contact_person', 'contact', 'job_title', 'role', 'job_portal', 'job_description', 'benefits', 'skills', 'responsibilities', 'company', 'company_profile']\n"
          ]
        }
      ]
    },
    {
      "cell_type": "code",
      "source": [
        "print(df.isnull().sum())\n"
      ],
      "metadata": {
        "colab": {
          "base_uri": "https://localhost:8080/"
        },
        "id": "VQXjkc6RJbGI",
        "outputId": "81bfb07c-29f1-4f56-a98f-0264ea498ff9"
      },
      "execution_count": null,
      "outputs": [
        {
          "output_type": "stream",
          "name": "stdout",
          "text": [
            "job_id                 0\n",
            "experience             0\n",
            "qualifications         0\n",
            "salary_range           0\n",
            "location               0\n",
            "country                0\n",
            "latitude               0\n",
            "longitude              0\n",
            "work_type              0\n",
            "company_size           0\n",
            "job_posting_date       0\n",
            "preference             0\n",
            "contact_person         0\n",
            "contact                0\n",
            "job_title              0\n",
            "role                   0\n",
            "job_portal             0\n",
            "job_description        0\n",
            "benefits               0\n",
            "skills                 0\n",
            "responsibilities       0\n",
            "company                0\n",
            "company_profile     5478\n",
            "dtype: int64\n"
          ]
        }
      ]
    },
    {
      "cell_type": "code",
      "source": [
        "df.dropna(inplace=True)"
      ],
      "metadata": {
        "id": "qZESvjIW1PDo"
      },
      "execution_count": null,
      "outputs": []
    },
    {
      "cell_type": "code",
      "source": [
        "print(df.isnull().sum())"
      ],
      "metadata": {
        "colab": {
          "base_uri": "https://localhost:8080/"
        },
        "id": "I9GGVc3X2meZ",
        "outputId": "b51f7d3d-bba4-413a-e857-d7c5f887207d"
      },
      "execution_count": null,
      "outputs": [
        {
          "output_type": "stream",
          "name": "stdout",
          "text": [
            "job_id              0\n",
            "experience          0\n",
            "qualifications      0\n",
            "salary_range        0\n",
            "location            0\n",
            "country             0\n",
            "latitude            0\n",
            "longitude           0\n",
            "work_type           0\n",
            "company_size        0\n",
            "job_posting_date    0\n",
            "preference          0\n",
            "contact_person      0\n",
            "contact             0\n",
            "job_title           0\n",
            "role                0\n",
            "job_portal          0\n",
            "job_description     0\n",
            "benefits            0\n",
            "skills              0\n",
            "responsibilities    0\n",
            "company             0\n",
            "company_profile     0\n",
            "dtype: int64\n"
          ]
        }
      ]
    },
    {
      "cell_type": "code",
      "source": [
        "df.drop_duplicates(inplace=True)"
      ],
      "metadata": {
        "id": "q6OtcsVhJlgA"
      },
      "execution_count": null,
      "outputs": []
    },
    {
      "cell_type": "code",
      "source": [
        "# Save cleaned data back to the original file (overwrite)\n",
        "df.to_csv('/content/drive/MyDrive/job_descriptions.csv', index=False)\n",
        "\n",
        "print(\"Original file in Google Drive has been overwritten with the cleaned version.\")\n"
      ],
      "metadata": {
        "colab": {
          "base_uri": "https://localhost:8080/"
        },
        "id": "jwzmQpPsK87Q",
        "outputId": "619525d0-c120-4867-dac8-f92a1631708a"
      },
      "execution_count": null,
      "outputs": [
        {
          "output_type": "stream",
          "name": "stdout",
          "text": [
            "Original file in Google Drive has been overwritten with the cleaned version.\n"
          ]
        }
      ]
    },
    {
      "cell_type": "code",
      "source": [
        "df_check = pd.read_csv('/content/drive/MyDrive/job_descriptions.csv')\n",
        "print(df_check.head())\n"
      ],
      "metadata": {
        "colab": {
          "base_uri": "https://localhost:8080/"
        },
        "id": "_Vb2BslqLMg6",
        "outputId": "32b75088-878f-4107-9449-abdea466a3c9"
      },
      "execution_count": null,
      "outputs": [
        {
          "output_type": "stream",
          "name": "stdout",
          "text": [
            "             job_id     experience qualifications salary_range    location  \\\n",
            "0  1089843540111562  5 to 15 Years         M.Tech    $59K-$99K     Douglas   \n",
            "1   398454096642776  2 to 12 Years            BCA   $56K-$116K    Ashgabat   \n",
            "2   481640072963533  0 to 12 Years            PhD   $61K-$104K       Macao   \n",
            "3   688192671473044  4 to 11 Years            PhD    $65K-$91K  Porto-Novo   \n",
            "4   117057806156508  1 to 12 Years            MBA    $64K-$87K    Santiago   \n",
            "\n",
            "            country  latitude  longitude  work_type  company_size  ...  \\\n",
            "0       Isle of Man   54.2361    -4.5481     Intern         26801  ...   \n",
            "1      Turkmenistan   38.9697    59.5563     Intern        100340  ...   \n",
            "2  Macao SAR, China   22.1987   113.5439  Temporary         84525  ...   \n",
            "3             Benin    9.3077     2.3158  Full-Time        129896  ...   \n",
            "4             Chile  -35.6751   -71.5429     Intern         53944  ...   \n",
            "\n",
            "                 contact                     job_title  \\\n",
            "0   001-381-930-7517x737  Digital Marketing Specialist   \n",
            "1           461-509-4216                 Web Developer   \n",
            "2             9687619505            Operations Manager   \n",
            "3  +1-820-643-5431x47576              Network Engineer   \n",
            "4      343.975.4702x9340                 Event Manager   \n",
            "\n",
            "                        role    job_portal  \\\n",
            "0       Social Media Manager      Snagajob   \n",
            "1     Frontend Web Developer      Idealist   \n",
            "2    Quality Control Manager  Jobs2Careers   \n",
            "3  Wireless Network Engineer      FlexJobs   \n",
            "4         Conference Manager  Jobs2Careers   \n",
            "\n",
            "                                     job_description  \\\n",
            "0  Social Media Managers oversee an organizations...   \n",
            "1  Frontend Web Developers design and implement u...   \n",
            "2  Quality Control Managers establish and enforce...   \n",
            "3  Wireless Network Engineers design, implement, ...   \n",
            "4  A Conference Manager coordinates and manages c...   \n",
            "\n",
            "                                            benefits  \\\n",
            "0  {'Flexible Spending Accounts (FSAs), Relocatio...   \n",
            "1  {'Health Insurance, Retirement Plans, Paid Tim...   \n",
            "2  {'Legal Assistance, Bonuses and Incentive Prog...   \n",
            "3  {'Transportation Benefits, Professional Develo...   \n",
            "4  {'Flexible Spending Accounts (FSAs), Relocatio...   \n",
            "\n",
            "                                              skills  \\\n",
            "0  Social media platforms (e.g., Facebook, Twitte...   \n",
            "1  HTML, CSS, JavaScript Frontend frameworks (e.g...   \n",
            "2  Quality control processes and methodologies St...   \n",
            "3  Wireless network design and architecture Wi-Fi...   \n",
            "4  Event planning Conference logistics Budget man...   \n",
            "\n",
            "                                    responsibilities  \\\n",
            "0  Manage and grow social media accounts, create ...   \n",
            "1  Design and code user interfaces for websites, ...   \n",
            "2  Establish and enforce quality control standard...   \n",
            "3  Design, configure, and optimize wireless netwo...   \n",
            "4  Specialize in conference and convention planni...   \n",
            "\n",
            "                            company  \\\n",
            "0                 Icahn Enterprises   \n",
            "1      PNC Financial Services Group   \n",
            "2  United Services Automobile Assn.   \n",
            "3                              Hess   \n",
            "4                      Cairn Energy   \n",
            "\n",
            "                                     company_profile  \n",
            "0  {\"Sector\":\"Diversified\",\"Industry\":\"Diversifie...  \n",
            "1  {\"Sector\":\"Financial Services\",\"Industry\":\"Com...  \n",
            "2  {\"Sector\":\"Insurance\",\"Industry\":\"Insurance: P...  \n",
            "3  {\"Sector\":\"Energy\",\"Industry\":\"Mining, Crude-O...  \n",
            "4  {\"Sector\":\"Energy\",\"Industry\":\"Energy - Oil & ...  \n",
            "\n",
            "[5 rows x 23 columns]\n"
          ]
        }
      ]
    },
    {
      "cell_type": "code",
      "source": [
        "df.to_csv('job_descriptions_cleaned.csv', index=False)\n"
      ],
      "metadata": {
        "id": "7yiWM22Pm8Vx"
      },
      "execution_count": null,
      "outputs": []
    },
    {
      "cell_type": "code",
      "source": [
        "import zipfile\n",
        "\n",
        "# Save CSV first\n",
        "csv_filename = 'job_descriptions_cleaned.csv'\n",
        "df.to_csv(csv_filename, index=False)\n",
        "\n",
        "# Compress it into a ZIP file\n",
        "zip_filename = 'job_descriptions_cleaned.zip'\n",
        "with zipfile.ZipFile(zip_filename, 'w', zipfile.ZIP_DEFLATED) as zipf:\n",
        "    zipf.write(csv_filename)\n",
        "\n",
        "print(\"✅ File compressed.\")\n"
      ],
      "metadata": {
        "colab": {
          "base_uri": "https://localhost:8080/"
        },
        "id": "kmoRXr6-FP_v",
        "outputId": "d43ad656-0868-438f-8647-e48c55fe9095"
      },
      "execution_count": null,
      "outputs": [
        {
          "output_type": "stream",
          "name": "stdout",
          "text": [
            "✅ File compressed.\n"
          ]
        }
      ]
    },
    {
      "cell_type": "code",
      "source": [
        "from google.colab import files\n",
        "files.download('job_descriptions_cleaned.zip')\n"
      ],
      "metadata": {
        "colab": {
          "base_uri": "https://localhost:8080/",
          "height": 34
        },
        "id": "8fvN3hqTFW6N",
        "outputId": "b48eac17-0cdd-438b-9cc9-f788626ee408"
      },
      "execution_count": null,
      "outputs": [
        {
          "output_type": "display_data",
          "data": {
            "text/plain": [
              "<IPython.core.display.Javascript object>"
            ],
            "application/javascript": [
              "\n",
              "    async function download(id, filename, size) {\n",
              "      if (!google.colab.kernel.accessAllowed) {\n",
              "        return;\n",
              "      }\n",
              "      const div = document.createElement('div');\n",
              "      const label = document.createElement('label');\n",
              "      label.textContent = `Downloading \"${filename}\": `;\n",
              "      div.appendChild(label);\n",
              "      const progress = document.createElement('progress');\n",
              "      progress.max = size;\n",
              "      div.appendChild(progress);\n",
              "      document.body.appendChild(div);\n",
              "\n",
              "      const buffers = [];\n",
              "      let downloaded = 0;\n",
              "\n",
              "      const channel = await google.colab.kernel.comms.open(id);\n",
              "      // Send a message to notify the kernel that we're ready.\n",
              "      channel.send({})\n",
              "\n",
              "      for await (const message of channel.messages) {\n",
              "        // Send a message to notify the kernel that we're ready.\n",
              "        channel.send({})\n",
              "        if (message.buffers) {\n",
              "          for (const buffer of message.buffers) {\n",
              "            buffers.push(buffer);\n",
              "            downloaded += buffer.byteLength;\n",
              "            progress.value = downloaded;\n",
              "          }\n",
              "        }\n",
              "      }\n",
              "      const blob = new Blob(buffers, {type: 'application/binary'});\n",
              "      const a = document.createElement('a');\n",
              "      a.href = window.URL.createObjectURL(blob);\n",
              "      a.download = filename;\n",
              "      div.appendChild(a);\n",
              "      a.click();\n",
              "      div.remove();\n",
              "    }\n",
              "  "
            ]
          },
          "metadata": {}
        },
        {
          "output_type": "display_data",
          "data": {
            "text/plain": [
              "<IPython.core.display.Javascript object>"
            ],
            "application/javascript": [
              "download(\"download_83c39684-da14-49ab-950f-046fd0e51d6e\", \"job_descriptions_cleaned.zip\", 469319703)"
            ]
          },
          "metadata": {}
        }
      ]
    }
  ]
}